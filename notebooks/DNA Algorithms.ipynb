{
 "cells": [
  {
   "cell_type": "code",
   "execution_count": 4,
   "metadata": {},
   "outputs": [],
   "source": [
    "%matplotlib inline\n",
    "import collections\n",
    "from Bio.Blast import NCBIWWW\n",
    "from Bio import SeqIO\n",
    "\n",
    "from pprint import pprint\n",
    "import matplotlib.pyplot as plt"
   ]
  },
  {
   "cell_type": "markdown",
   "metadata": {},
   "source": [
    "## Module 1: DNA Sequencing, strings and matching"
   ]
  },
  {
   "cell_type": "code",
   "execution_count": 5,
   "metadata": {},
   "outputs": [],
   "source": [
    "fp = \"./files/lambda_virus.fa\"\n",
    "records = list(SeqIO.parse(fp, \"fasta\"))"
   ]
  },
  {
   "cell_type": "code",
   "execution_count": 6,
   "metadata": {},
   "outputs": [],
   "source": [
    "def naive(p, t):\n",
    "    occurrences = []\n",
    "    for i in range(len(t) - len(p) + 1):  # loop over alignments\n",
    "        match = True\n",
    "        for j in range(len(p)):  # loop over characters\n",
    "            if t[i+j] != p[j]:  # compare characters\n",
    "                match = False\n",
    "                break\n",
    "        if match:\n",
    "            occurrences.append(i)  # all chars matched; record\n",
    "    return occurrences\n",
    "\n",
    "\n",
    "def reverseComplement(s):\n",
    "    complement = {'A': 'T', 'C': 'G', 'G': 'C', 'T': 'A', 'N': 'N'}\n",
    "    t = ''\n",
    "    for base in s:\n",
    "        t = complement[base] + t\n",
    "    return t\n",
    "\n",
    "def readGenome(filename):\n",
    "    genome = ''\n",
    "    with open(filename, 'r') as f:\n",
    "        for line in f:\n",
    "            # ignore header line with genome information\n",
    "            if not line[0] == '>':\n",
    "                genome += line.rstrip()\n",
    "    return genome\n",
    "\n",
    "def readFastq(filename):\n",
    "    sequences = []\n",
    "    qualities = []\n",
    "    with open(filename) as fh:\n",
    "        while True:\n",
    "            fh.readline()  # skip name line\n",
    "            seq = fh.readline().rstrip()  # read base sequence\n",
    "            fh.readline()  # skip placeholder line\n",
    "            qual = fh.readline().rstrip() # base quality line\n",
    "            if len(seq) == 0:\n",
    "                break\n",
    "            sequences.append(seq)\n",
    "            qualities.append(qual)\n",
    "    return sequences, qualities\n"
   ]
  },
  {
   "cell_type": "code",
   "execution_count": 2,
   "metadata": {},
   "outputs": [],
   "source": [
    "# Preparation functions\n",
    "\"\"\"First, implement a version of the naive exact matching algorithm that is strand-aware. \n",
    "That is, instead of looking only for occurrences of P in T, \n",
    "additionally look for occurrences of thereverse complement of P in T. \n",
    "\n",
    "If P is ACT, your function should find occurrences of both ACT and its reverse complement AGT in T.\n",
    "\n",
    "If P and its reverse complement are identical (e.g. AACGTT), \n",
    "then a given match offset should be reported only once. \n",
    "\n",
    "So if your new function is called naive_with_rc, then the old naivefunction and \n",
    "your new naive_with_rc function should return the same results when P equals its reverse complement.\n",
    "\"\"\"\n",
    "\n",
    "pass"
   ]
  },
  {
   "cell_type": "code",
   "execution_count": 13,
   "metadata": {},
   "outputs": [],
   "source": [
    "record = records[0]"
   ]
  },
  {
   "cell_type": "code",
   "execution_count": 14,
   "metadata": {},
   "outputs": [
    {
     "data": {
      "text/plain": [
       "SeqRecord(seq=Seq('GGGCGGCGACCTCGCGGGTTTTCGCTATTTATGAAAATTTTCCGGTTTAAGGCG...ACG', SingleLetterAlphabet()), id='gi|9626243|ref|NC_001416.1|', name='gi|9626243|ref|NC_001416.1|', description='gi|9626243|ref|NC_001416.1| Enterobacteria phage lambda, complete genome', dbxrefs=[])"
      ]
     },
     "execution_count": 14,
     "metadata": {},
     "output_type": "execute_result"
    }
   ],
   "source": [
    "record"
   ]
  },
  {
   "cell_type": "code",
   "execution_count": 27,
   "metadata": {},
   "outputs": [
    {
     "data": {
      "text/plain": [
       "Seq('GGGCGGCGACCTCGCGGGTTTTCGCTATTTATGAAAATTTTCCGGTTTAAGGCG...ACG', SingleLetterAlphabet())"
      ]
     },
     "execution_count": 27,
     "metadata": {},
     "output_type": "execute_result"
    }
   ],
   "source": [
    "seq = record.seq\n",
    "seq"
   ]
  },
  {
   "cell_type": "code",
   "execution_count": 28,
   "metadata": {},
   "outputs": [
    {
     "data": {
      "text/plain": [
       "Seq('CGTAACCTGTCGGATCACCGGAAAGGACCCGTAAAGTGATAATGATTATCATCT...CCC', SingleLetterAlphabet())"
      ]
     },
     "execution_count": 28,
     "metadata": {},
     "output_type": "execute_result"
    }
   ],
   "source": [
    "r_seq = record.reverse_complement().seq\n",
    "r_seq"
   ]
  },
  {
   "cell_type": "code",
   "execution_count": 39,
   "metadata": {},
   "outputs": [
    {
     "name": "stdout",
     "output_type": "stream",
     "text": [
      "150\n",
      "150\n"
     ]
    },
    {
     "data": {
      "text/plain": [
       "306"
      ]
     },
     "execution_count": 39,
     "metadata": {},
     "output_type": "execute_result"
    }
   ],
   "source": [
    "# 1.\n",
    "print(seq.count(\"AGGT\"))\n",
    "print(r_seq.count(\"AGGT\"))\n",
    "seq.count(\"AGGT\") + r_seq.count(\"AGGT\")"
   ]
  },
  {
   "cell_type": "code",
   "execution_count": 37,
   "metadata": {},
   "outputs": [
    {
     "name": "stdout",
     "output_type": "stream",
     "text": [
      "195\n",
      "195\n"
     ]
    }
   ],
   "source": [
    "# 3.\n",
    "print(seq.count(\"TTAA\"))\n",
    "print(r_seq.count(\"TTAA\"))"
   ]
  },
  {
   "cell_type": "code",
   "execution_count": 44,
   "metadata": {},
   "outputs": [
    {
     "name": "stdout",
     "output_type": "stream",
     "text": [
      "27733\n",
      "26028\n"
     ]
    }
   ],
   "source": [
    "# 3.\n",
    "print(seq.find(\"ACTAAGT\"))\n",
    "# print(r_seq.find(\"ACTAAGT\"))\n",
    "print(seq.find(\"ACTTAGT\"))"
   ]
  },
  {
   "cell_type": "code",
   "execution_count": 47,
   "metadata": {},
   "outputs": [
    {
     "name": "stdout",
     "output_type": "stream",
     "text": [
      "18005\n",
      "450\n"
     ]
    }
   ],
   "source": [
    "# 4.\n",
    "print(seq.find(\"AGTCGA\"))\n",
    "print(seq.find(\"TCGACT\"))"
   ]
  },
  {
   "cell_type": "code",
   "execution_count": 63,
   "metadata": {},
   "outputs": [
    {
     "name": "stdout",
     "output_type": "stream",
     "text": [
      "[10, 24, 38]\n",
      "191\n"
     ]
    }
   ],
   "source": [
    "# 5.\n",
    "def naive_2mm(p, t):\n",
    "    occurrences = []\n",
    "    for i in range(len(t) - len(p) + 1):  # loop over alignments\n",
    "        match = True\n",
    "        mismatches = 0\n",
    "        \n",
    "        for j in range(len(p)):  # loop over characters\n",
    "            if t[i+j] != p[j]:  # compare characters\n",
    "                mismatches += 1\n",
    "                \n",
    "            if mismatches > 2:\n",
    "                match = False\n",
    "                break\n",
    "        if match:\n",
    "            occurrences.append(i)  # all chars matched; record\n",
    "    return occurrences\n",
    "\n",
    "p = 'CTGT'\n",
    "ten_as = 'AAAAAAAAAA'\n",
    "t = ten_as + 'CTGT' + ten_as + 'CTTT' + ten_as + 'CGGG' + ten_as\n",
    "occurrences = naive_2mm(p, t)\n",
    "print(occurrences) # [10, 24, 38]\n",
    "\n",
    "occurrences = naive_2mm(\"TTCAAGCC\", seq)\n",
    "print(len(occurrences))"
   ]
  },
  {
   "cell_type": "code",
   "execution_count": 65,
   "metadata": {},
   "outputs": [
    {
     "data": {
      "text/plain": [
       "49"
      ]
     },
     "execution_count": 65,
     "metadata": {},
     "output_type": "execute_result"
    }
   ],
   "source": [
    "# 6.\n",
    "occurrences = naive_2mm(\"AGGAGGTT\", seq)\n",
    "occurrences[0]"
   ]
  },
  {
   "cell_type": "code",
   "execution_count": 69,
   "metadata": {},
   "outputs": [
    {
     "data": {
      "text/plain": [
       "[SeqRecord(seq=Seq('@ERR037900.47509.7.42.5729.198593/1TAGGGTAGGGTTAGGGTTA...AT+', SingleLetterAlphabet()), id='==>=7DFFDHHHHHHGHHHEFDCA55445FECDA=<=<>8EEGDD7A4D44-5/><:7=:DAA####################################', name='==>=7DFFDHHHHHHGHHHEFDCA55445FECDA=<=<>8EEGDD7A4D44-5/><:7=:DAA####################################', description='==>=7DFFDHHHHHHGHHHEFDCA55445FECDA=<=<>8EEGDD7A4D44-5/><:7=:DAA####################################', dbxrefs=[]),\n",
       " SeqRecord(seq=Seq('@ERR037900.180509.8.1.1903.189882/1TTAGGGTTAGGGTTAGGGT...CG+', SingleLetterAlphabet()), id='C@C@DADFFFGGGG<DDDDC<CC@>>4<=5544535541@===58@A>8C??9;5445555135/5544@><94<:=@4A###################', name='C@C@DADFFFGGGG<DDDDC<CC@>>4<=5544535541@===58@A>8C??9;5445555135/5544@><94<:=@4A###################', description='C@C@DADFFFGGGG<DDDDC<CC@>>4<=5544535541@===58@A>8C??9;5445555135/5544@><94<:=@4A###################', dbxrefs=[]),\n",
       " SeqRecord(seq=Seq('@ERR037900.418509.2.27.12207.142740/1CTAACCCTAACCCTAAC...GT+', SingleLetterAlphabet()), id='>>9==>==.555546?A?AC;C<C=>8=>???6:8=>:555554;F=AC##################################################', name='>>9==>==.555546?A?AC;C<C=>8=>???6:8=>:555554;F=AC##################################################', description='>>9==>==.555546?A?AC;C<C=>8=>???6:8=>:555554;F=AC##################################################', dbxrefs=[]),\n",
       " SeqRecord(seq=Seq('@ERR037900.440509.3.47.20196.20501/1GGGTTAGGGTTAGGGTTA...###', SingleLetterAlphabet()), id='=@=@BFFFCHHHHHHHEHHECFBFFDCFDDDD<D@DDD7<9@=>?CEFDF;FBFDD8B>FED@=1#43-54558<=7@=C97>C###############', name='=@=@BFFFCHHHHHHHEHHECFBFFDCFDDDD<D@DDD7<9@=>?CEFDF;FBFDD8B>FED@=1#43-54558<=7@=C97>C###############', description='=@=@BFFFCHHHHHHHEHHECFBFFDCFDDDD<D@DDD7<9@=>?CEFDF;FBFDD8B>FED@=1#43-54558<=7@=C97>C###############', dbxrefs=[])]"
      ]
     },
     "execution_count": 69,
     "metadata": {},
     "output_type": "execute_result"
    }
   ],
   "source": [
    "# 7.\n",
    "fp = \"./files/ERR037900_1.first1000.fastq\"\n",
    "records = list(SeqIO.parse(fp, \"fasta\"))\n",
    "records"
   ]
  },
  {
   "cell_type": "code",
   "execution_count": 73,
   "metadata": {},
   "outputs": [
    {
     "name": "stdout",
     "output_type": "stream",
     "text": [
      "4\n"
     ]
    }
   ],
   "source": [
    "print(len(records))\n"
   ]
  }
 ],
 "metadata": {
  "kernelspec": {
   "display_name": "Python (genomics)",
   "language": "python",
   "name": "genomics"
  },
  "language_info": {
   "codemirror_mode": {
    "name": "ipython",
    "version": 3
   },
   "file_extension": ".py",
   "mimetype": "text/x-python",
   "name": "python",
   "nbconvert_exporter": "python",
   "pygments_lexer": "ipython3",
   "version": "3.6.7"
  }
 },
 "nbformat": 4,
 "nbformat_minor": 2
}
